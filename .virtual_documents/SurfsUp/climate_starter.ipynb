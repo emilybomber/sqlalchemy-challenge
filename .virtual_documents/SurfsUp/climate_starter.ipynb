%matplotlib inline
from matplotlib import style
style.use('fivethirtyeight')
import matplotlib.pyplot as plt


import numpy as np
import pandas as pd
import datetime as dt





# Python SQL toolkit and Object Relational Mapper
import sqlalchemy
from sqlalchemy.ext.automap import automap_base
from sqlalchemy.orm import Session
from sqlalchemy import create_engine, func


# create engine to hawaii.sqlite
engine = create_engine("sqlite:///Resources/hawaii.sqlite")


# reflect an existing database into a new model
Base = automap_base()
# reflect the tables
Base.prepare(autoload_with=engine)


# View all of the classes that automap found
Base.classes.keys()


# Save references to each table
Measurement = Base.classes.measurement
Station = Base.classes.station


# Create our session (link) from Python to the DB
session = Session(engine)








# Find the most recent date in the data set.
session.query(func.max(Measurement.date)).all()[0][0]


session.query(func.max(Measurement.date)).first()[0]


last_date_str = session.query(func.max(Measurement.date)).scalar()
last_date_str


# Design a query to retrieve the last 12 months of precipitation data and plot the results. 
# Starting from the most recent data point in the database. 
# Calculate the date one year from the last date in data set.
last_date = dt.date.fromisoformat(last_date_str)
year_before = last_date - dt.timedelta(days=365)
year_before
# Perform a query to retrieve the date and precipitation scores from the last year (12months)
session.query(Measurement.date, func.avg(Measurement.prcp))\
    .filter(Measurement.date >= year_before)\
    .group_by(Measurement.date)\
    .order_by(Measurement.date)\
    .all()




# Save the query results as a Pandas DataFrame. Explicitly set the column names
precipitation_data = session.query(Measurement.date, func.avg(Measurement.prcp))\
    .filter(Measurement.date >= year_before)\
    .group_by(Measurement.date)\
    .order_by(Measurement.date)\
    .all()
column_names = ['Date', 'Average Precipitation']
precipitation_df = pd.DataFrame(precipitation_data, columns=column_names)

# Sort the dataframe by date
precipitation_df['Date'] = pd.to_datetime(precipitation_df['Date'])
precipitation_df = precipitation_df.sort_values(by='Date')

# Use Pandas Plotting with Matplotlib to plot the data



# Use Pandas to calculate the summary statistics for the precipitation data
summary_statistics = precipitation_df.describe()
summary_statistics








# Design a query to calculate the total number of stations in the dataset (9)
session.query(func.count(Station.station)).scalar()


# Design a query to find the most active stations (i.e. which stations have the most rows?)
# List the stations and their counts in descending order.
station_activity = session.query(Measurement.station, func.count(Measurement.station))\
    .group_by(Measurement.station)\
    .order_by(func.count(Measurement.station).desc())\
    .all()

station_activity


# Using the most active station id from the previous query, calculate the lowest, highest, and average temperature.
most_active_station_id = station_activity[0][0]
most_active_station = session.query(func.min(Measurement.tobs), func.max(Measurement.tobs), func.avg(Measurement.tobs))\
    .filter(Measurement.station == most_active_station_id)\
    .all()
most_active_station   


# Using the most active station id
# Query the last 12 months of temperature observation data for this station and plot the results as a histogram
last_12_months = session.query(Measurement.tobs)\
    .filter(Measurement.station == most_active_station_id)\
    .filter(Measurement.date >= year_before)\
    .all()
last_12_months





# Close Session
session.close()



